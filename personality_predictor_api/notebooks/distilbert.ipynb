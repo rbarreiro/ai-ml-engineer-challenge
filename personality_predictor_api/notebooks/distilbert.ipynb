{
 "cells": [
  {
   "cell_type": "code",
   "execution_count": 12,
   "metadata": {},
   "outputs": [],
   "source": [
    "#%pip install --use-feature=2020-resolver --user torch torchvision torchaudio --index-url https://download.pytorch.org/whl/cu118\n",
    "#%pip install --use-feature=2020-resolver --upgrade --user kagglehub transformers datasets evaluate accelerate typing_extensions tqdm\n",
    "#%pip install --use-feature=2020-resolver --user fastapi uvicorn pydantic"
   ]
  },
  {
   "cell_type": "code",
   "execution_count": 4,
   "metadata": {},
   "outputs": [],
   "source": [
    "import sys\n",
    "import os\n",
    "import kagglehub\n",
    "import pandas as pd\n",
    "from datasets import Dataset, DatasetDict\n",
    "\n",
    "parent_dir = os.path.abspath(os.path.join(os.getcwd(), '..'))\n",
    "sys.path.append(parent_dir)\n",
    "\n",
    "from src.utils.preprocess import label2id, id2label, num_labels\n",
    "\n",
    "def get_kaggle_df():\n",
    "    path = kagglehub.dataset_download(\"zeyadkhalid/mbti-personality-types-500-dataset\")\n",
    "    return pd.read_csv(os.path.join(path,'MBTI 500.csv'))\n",
    "\n",
    "def print_id2label():\n",
    "    df = get_kaggle_df()\n",
    "    l = list(df[\"type\"].unique())\n",
    "    print(f\"id2label = {{ {','.join([ str(k) + ':' + repr(t) for k,t in enumerate(l)])}}}\")\n",
    "    print(f\"label2id = {{ {','.join([ repr(t) + ':' +  str(k) for k,t in enumerate(l)])}}}\")\n",
    "\n",
    "def make_hf_ds():\n",
    "    df = get_kaggle_df()\n",
    "\n",
    "    def gen():\n",
    "        for i,v in df.iterrows():\n",
    "            yield {'text': v['posts'], 'label': label2id[v['type']]}\n",
    "\n",
    "    ds = Dataset.from_generator(gen)\n",
    "    ds_ = ds.train_test_split(test_size=0.1)\n",
    "    ds_.save_to_disk(os.path.join('..','data','mbti'))\n",
    "\n",
    "def load_ds():\n",
    "    return DatasetDict.load_from_disk(os.path.join('..','data','mbti'))"
   ]
  },
  {
   "cell_type": "code",
   "execution_count": 5,
   "metadata": {},
   "outputs": [],
   "source": [
    "#print_id2label()"
   ]
  },
  {
   "cell_type": "code",
   "execution_count": 1,
   "metadata": {},
   "outputs": [],
   "source": [
    "id2label = { 0:'INTJ',1:'INTP',2:'ISFJ',3:'ISFP',4:'ISTJ',5:'ISTP',6:'ENFJ',7:'ENFP',8:'ENTJ',9:'ENTP',10:'ESFJ',11:'ESFP',12:'ESTJ',13:'ESTP',14:'INFJ',15:'INFP'}\n",
    "label2id = { 'INTJ':0,'INTP':1,'ISFJ':2,'ISFP':3,'ISTJ':4,'ISTP':5,'ENFJ':6,'ENFP':7,'ENTJ':8,'ENTP':9,'ESFJ':10,'ESFP':11,'ESTJ':12,'ESTP':13,'INFJ':14,'INFP':15}\n",
    "num_labels = 16"
   ]
  },
  {
   "cell_type": "code",
   "execution_count": 6,
   "metadata": {},
   "outputs": [],
   "source": [
    "#make_hf_ds() "
   ]
  },
  {
   "cell_type": "code",
   "execution_count": 7,
   "metadata": {},
   "outputs": [],
   "source": [
    "ds = load_ds()"
   ]
  },
  {
   "cell_type": "code",
   "execution_count": 8,
   "metadata": {},
   "outputs": [
    {
     "data": {
      "text/plain": [
       "{'text': 'bite like ni type know thing think would accurate say difficuy verbalize reason think process visual spatial holistic rather verbal sequential like answer include low function well high one especially notice one fjs fps way many people near middle scale sometimes score wrong side way achieve balance help ferret type imo see si se ni ne fi fe ti te think problem people introvert social anxiet society make social anxiety hate bother everyone way society whole treat introvert vouch poeple introvert well social anxiety sometimes social situation always easy figure social anxiety make want leave tire introversion sure social anxious introvert way hate people simply direct r socialanxiety simple oh gosh get much live family reason marry job enjoy generally thing great get little sometimes wish understand good maybe stand offish right word think get past prickly outside want overwhelm person since tend thing know month really appreciate insight anything say ohhh goodness must hard feel feel right fe like sometimes still hug want sure look migraine thing seem like able make progress area life make lot easy work go school depend decide want keep talk keep listen sorry mean offence favorite quote life mean circa survive song must learn lose graciously accurate ahough really optimistic always look forward time problem communication trust go certain instance bearable others ok still possible infj also notice exist sub group claim need acknowledgement others show importance something get dress everytime leave house worry someone think le claim one understand yet walk around show mask world sound bite like low self esteem narcissism tbh point view least think highly really really worry others feel want validation others struggle validate want tell good hard time believe show mask world scar open get shoot feel even bad understand plus pretty common trait infjs guard might narcissism could wrong know specific situation whatever think talk infjs undoubtedly complicate seem first glance course say every infj sting probably time favorite like offspring favorite tend come go listen playlist work look forward feel need new music curious whether fellow infj would lead new favorite cannot stand small talk personally mostly time energy precious like spend understand people want invite life good oh hey da weather like try derail attempt small talk actual conversation go anywhere get bore person conversation uncomfortably move something else seem busy flee different room work person leave know think preoccupy idea capable lenhy enjoyable conversation help make oneself interest small talk conversation mother really listen well become frustrate get upset try explain attitude come get upset listen respect feel course really listen wait turn speak soon finish sentence declare respect feel explain understand say repeat say back use different word still listen say respond say understand want discussion anyways want everything would good say frustrate would understatement pro tip anybody read ever move back parent get ready rocky road fortunately consider silly theory thing really matter life relationship people million deathbed testimonial teach u look back live wish wed work hard maintain inbox zero finish',\n",
       " 'label': 14}"
      ]
     },
     "execution_count": 8,
     "metadata": {},
     "output_type": "execute_result"
    }
   ],
   "source": [
    "ds[\"train\"][0]"
   ]
  },
  {
   "cell_type": "code",
   "execution_count": 9,
   "metadata": {},
   "outputs": [],
   "source": [
    "from transformers import AutoTokenizer\n",
    "tokenizer = AutoTokenizer.from_pretrained(\"distilbert/distilbert-base-uncased\")"
   ]
  },
  {
   "cell_type": "code",
   "execution_count": 10,
   "metadata": {},
   "outputs": [],
   "source": [
    "def preprocess_function(examples):\n",
    "    return tokenizer(examples[\"text\"], truncation=True)\n",
    "\n",
    "tokenized_ds = ds.map(preprocess_function, batched=True)"
   ]
  },
  {
   "cell_type": "code",
   "execution_count": 11,
   "metadata": {},
   "outputs": [],
   "source": [
    "from transformers import DataCollatorWithPadding\n",
    "data_collator = DataCollatorWithPadding(tokenizer=tokenizer)"
   ]
  },
  {
   "cell_type": "code",
   "execution_count": 12,
   "metadata": {},
   "outputs": [],
   "source": [
    "import evaluate\n",
    "\n",
    "accuracy = evaluate.load(\"accuracy\")"
   ]
  },
  {
   "cell_type": "code",
   "execution_count": 13,
   "metadata": {},
   "outputs": [],
   "source": [
    "import numpy as np\n",
    "\n",
    "\n",
    "def compute_metrics(eval_pred):\n",
    "    predictions, labels = eval_pred\n",
    "    predictions = np.argmax(predictions, axis=1)\n",
    "    return accuracy.compute(predictions=predictions, references=labels)"
   ]
  },
  {
   "cell_type": "code",
   "execution_count": 14,
   "metadata": {},
   "outputs": [
    {
     "name": "stderr",
     "output_type": "stream",
     "text": [
      "Some weights of DistilBertForSequenceClassification were not initialized from the model checkpoint at distilbert/distilbert-base-uncased and are newly initialized: ['classifier.bias', 'classifier.weight', 'pre_classifier.bias', 'pre_classifier.weight']\n",
      "You should probably TRAIN this model on a down-stream task to be able to use it for predictions and inference.\n"
     ]
    }
   ],
   "source": [
    "from transformers import AutoModelForSequenceClassification, TrainingArguments, Trainer\n",
    "\n",
    "model = AutoModelForSequenceClassification.from_pretrained(\n",
    "    \"distilbert/distilbert-base-uncased\", num_labels=num_labels, id2label=id2label, label2id=label2id\n",
    ")"
   ]
  },
  {
   "cell_type": "code",
   "execution_count": 15,
   "metadata": {},
   "outputs": [
    {
     "data": {
      "text/plain": [
       "True"
      ]
     },
     "execution_count": 15,
     "metadata": {},
     "output_type": "execute_result"
    }
   ],
   "source": [
    "import torch\n",
    "torch.cuda.is_available()"
   ]
  },
  {
   "cell_type": "code",
   "execution_count": 19,
   "metadata": {},
   "outputs": [
    {
     "data": {
      "text/plain": [
       "'NVIDIA GeForce RTX 2060'"
      ]
     },
     "execution_count": 19,
     "metadata": {},
     "output_type": "execute_result"
    }
   ],
   "source": [
    "torch.cuda.get_device_name(0)"
   ]
  },
  {
   "cell_type": "code",
   "execution_count": null,
   "metadata": {},
   "outputs": [
    {
     "data": {
      "application/vnd.jupyter.widget-view+json": {
       "model_id": "70a910acb16749e794bc42a5b8558fa3",
       "version_major": 2,
       "version_minor": 0
      },
      "text/plain": [
       "  0%|          | 0/5967 [00:00<?, ?it/s]"
      ]
     },
     "metadata": {},
     "output_type": "display_data"
    },
    {
     "name": "stdout",
     "output_type": "stream",
     "text": [
      "{'loss': 1.2237, 'grad_norm': 13.743212699890137, 'learning_rate': 1.8324115971174795e-05, 'epoch': 0.08}\n",
      "{'loss': 0.8859, 'grad_norm': 12.72556209564209, 'learning_rate': 1.664823194234959e-05, 'epoch': 0.17}\n",
      "{'loss': 0.8207, 'grad_norm': 13.707405090332031, 'learning_rate': 1.4972347913524386e-05, 'epoch': 0.25}\n",
      "{'loss': 0.7521, 'grad_norm': 11.589092254638672, 'learning_rate': 1.329646388469918e-05, 'epoch': 0.34}\n",
      "{'loss': 0.7284, 'grad_norm': 8.122697830200195, 'learning_rate': 1.1620579855873975e-05, 'epoch': 0.42}\n",
      "{'loss': 0.6765, 'grad_norm': 14.169639587402344, 'learning_rate': 9.94469582704877e-06, 'epoch': 0.5}\n",
      "{'loss': 0.6599, 'grad_norm': 6.587297439575195, 'learning_rate': 8.268811798223564e-06, 'epoch': 0.59}\n",
      "{'loss': 0.6402, 'grad_norm': 10.743701934814453, 'learning_rate': 6.592927769398358e-06, 'epoch': 0.67}\n",
      "{'loss': 0.5873, 'grad_norm': 12.94200611114502, 'learning_rate': 4.917043740573153e-06, 'epoch': 0.75}\n",
      "{'loss': 0.5981, 'grad_norm': 9.286853790283203, 'learning_rate': 3.241159711747947e-06, 'epoch': 0.84}\n",
      "{'loss': 0.6027, 'grad_norm': 7.10899019241333, 'learning_rate': 1.565275682922742e-06, 'epoch': 0.92}\n"
     ]
    },
    {
     "data": {
      "application/vnd.jupyter.widget-view+json": {
       "model_id": "10926d3e534d4409950f873ad170ccb3",
       "version_major": 2,
       "version_minor": 0
      },
      "text/plain": [
       "  0%|          | 0/663 [00:00<?, ?it/s]"
      ]
     },
     "metadata": {},
     "output_type": "display_data"
    },
    {
     "name": "stdout",
     "output_type": "stream",
     "text": [
      "{'eval_loss': 0.5601599216461182, 'eval_accuracy': 0.8283209201470727, 'eval_runtime': 203.6617, 'eval_samples_per_second': 52.081, 'eval_steps_per_second': 3.255, 'epoch': 1.0}\n",
      "{'train_runtime': 6223.2587, 'train_samples_per_second': 15.339, 'train_steps_per_second': 0.959, 'train_loss': 0.7321360418499665, 'epoch': 1.0}\n"
     ]
    },
    {
     "data": {
      "text/plain": [
       "TrainOutput(global_step=5967, training_loss=0.7321360418499665, metrics={'train_runtime': 6223.2587, 'train_samples_per_second': 15.339, 'train_steps_per_second': 0.959, 'total_flos': 1.264849503879168e+16, 'train_loss': 0.7321360418499665, 'epoch': 1.0})"
      ]
     },
     "execution_count": 20,
     "metadata": {},
     "output_type": "execute_result"
    }
   ],
   "source": [
    "training_args = TrainingArguments(\n",
    "    output_dir=\"../models/my_mbti\",\n",
    "    learning_rate=2e-5,\n",
    "    per_device_train_batch_size=16,\n",
    "    per_device_eval_batch_size=16,\n",
    "    num_train_epochs=1,\n",
    "    weight_decay=0.01,\n",
    "    eval_strategy=\"epoch\",\n",
    "    save_strategy=\"epoch\",\n",
    "    load_best_model_at_end=True\n",
    ")\n",
    "\n",
    "trainer = Trainer(\n",
    "    model=model,\n",
    "    args=training_args,\n",
    "    train_dataset=tokenized_ds[\"train\"],\n",
    "    eval_dataset=tokenized_ds[\"test\"],\n",
    "    processing_class=tokenizer,\n",
    "    data_collator=data_collator,\n",
    "    compute_metrics=compute_metrics,\n",
    ")\n",
    "\n",
    "trainer.train()"
   ]
  },
  {
   "cell_type": "code",
   "execution_count": 13,
   "metadata": {},
   "outputs": [
    {
     "name": "stderr",
     "output_type": "stream",
     "text": [
      "Hardware accelerator e.g. GPU is available in the environment, but no `device` argument is passed to the `Pipeline` object. Model will be on CPU.\n"
     ]
    }
   ],
   "source": [
    "from transformers import pipeline\n",
    "classifier = pipeline(\"text-classification\", model=\"../models/my_mbti/checkpoint-5967\")"
   ]
  },
  {
   "cell_type": "code",
   "execution_count": 14,
   "metadata": {},
   "outputs": [
    {
     "data": {
      "text/plain": [
       "[{'label': 'INFP', 'score': 0.13372699916362762}]"
      ]
     },
     "execution_count": 14,
     "metadata": {},
     "output_type": "execute_result"
    }
   ],
   "source": [
    "classifier(\"I am a very happy person\")"
   ]
  },
  {
   "cell_type": "code",
   "execution_count": null,
   "metadata": {},
   "outputs": [],
   "source": []
  }
 ],
 "metadata": {
  "kernelspec": {
   "display_name": "base",
   "language": "python",
   "name": "python3"
  },
  "language_info": {
   "codemirror_mode": {
    "name": "ipython",
    "version": 3
   },
   "file_extension": ".py",
   "mimetype": "text/x-python",
   "name": "python",
   "nbconvert_exporter": "python",
   "pygments_lexer": "ipython3",
   "version": "3.8.5"
  }
 },
 "nbformat": 4,
 "nbformat_minor": 2
}
